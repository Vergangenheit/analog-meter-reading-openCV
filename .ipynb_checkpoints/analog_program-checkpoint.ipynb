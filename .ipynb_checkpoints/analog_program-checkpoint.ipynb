{
 "cells": [
  {
   "cell_type": "code",
   "execution_count": null,
   "metadata": {
    "colab": {
     "base_uri": "https://localhost:8080/"
    },
    "id": "tah2Tv4dsJWa",
    "outputId": "4b54bbd4-4b08-4f28-d5e3-8ae2a3fc8061"
   },
   "outputs": [],
   "source": [
    "%matplotlib inline\n",
    "\n",
    "# !pip install keras\n",
    "# !pip install tensorflow  \n",
    "# !pip3 install opencv-python\n",
    "# !pip install pypng\n",
    "# !pip install matplotlib\n",
    "\n",
    "# from google.colab import drive\n",
    "# from google.colab.patches import cv2_imshow\n",
    "from skimage import data,filters\n",
    "from PIL import ImageTk, Image\n",
    "\n",
    "# drive.mount('/content/drive')\n",
    "# %cd /content/drive/MyDrive/analog/\n",
    "\n",
    "import cv2\n",
    "import csv\n",
    "import matplotlib.pyplot as plt\n",
    "import matplotlib.pylab as plt\n",
    "import matplotlib.cm as cm\n",
    "import numpy as np\n",
    "import pathlib\n",
    "import PIL\n",
    "import os,png,array\n",
    "import pandas as pd\n",
    "import time\n",
    "import tensorflow as tf"
   ]
  },
  {
   "cell_type": "code",
   "execution_count": null,
   "metadata": {
    "colab": {
     "base_uri": "https://localhost:8080/",
     "height": 1000
    },
    "id": "GmYzoTvtsyIv",
    "outputId": "64687d70-90b0-42e6-88a3-d416f44ef427"
   },
   "outputs": [],
   "source": [
    "from tf.keras.models import load_model\n",
    "\n",
    "classifier=load_model('cnn_svhn_.model')\n",
    "\n",
    "row_list = []\n",
    "index_counter = 0\n",
    "resize_counter = 0\n",
    "\n",
    "directory=\"/content/drive/My Drive/analog/\"\n",
    "\n",
    "for file in os.listdir(directory):\n",
    "  try:\n",
    "\n",
    "    if file.endswith(\".jpg\"): \n",
    "        img = cv2.imread(file, 0)\n",
    "\n",
    "        img = cv2.GaussianBlur(img, (3,3), 0)\n",
    "\n",
    "        #edges = cv2.Canny(img, 175, 200, apertureSize=3, L2gradient=False)\n",
    "        def auto_canny(image, sigma=0.33):\n",
    "\n",
    "            v = np.median(image)\n",
    "            lower = int(max(0, (1.0 - sigma) * v))\n",
    "            upper = int(min(255, (1.0 + sigma) * v))\n",
    "            edged = cv2.Canny(image, lower, upper, apertureSize=3, L2gradient=True)\n",
    "            return edged\n",
    "\n",
    "        edges = auto_canny(img)\n",
    "\n",
    "        contours, hierarchy = cv2.findContours(edges.copy(), cv2.RETR_TREE, cv2.CHAIN_APPROX_SIMPLE)\n",
    "\n",
    "        contours_dict = dict()\n",
    "        for cont in contours:\n",
    "            x, y, w, h = cv2.boundingRect(cont)\n",
    "            area = cv2.contourArea(cont)\n",
    "            if 20 < area and 20 < w and h > 10 :\n",
    "                contours_dict[(x, y, w, h)] = cont\n",
    "\n",
    "        contours_filtered = sorted(contours_dict.values(), key=cv2.boundingRect)\n",
    "        blank_background = np.zeros_like(edges)\n",
    "        img_contours = cv2.drawContours(blank_background, contours_filtered, -1, (255,255,255), thickness=2)\n",
    "\n",
    "        def is_overlapping_horizontally(box1, box2):\n",
    "            x1, _, w1, _ = box1\n",
    "            x2, _, _, _ = box2\n",
    "            if x1 > x2:\n",
    "                return is_overlapping_horizontally(box2, box1)\n",
    "            return (x2 - x1) < w1\n",
    "\n",
    "        def merge(box1, box2):\n",
    "            assert is_overlapping_horizontally(box1, box2)\n",
    "            x1, y1, w1, h1 = box1\n",
    "            x2, y2, w2, h2 = box2\n",
    "            x = min(x1, x2)\n",
    "            w = max(x1 + w1, x2 + w2) - x\n",
    "            y = min(y1, y2)\n",
    "            h = max(y1 + h1, y2 + h2) - y\n",
    "            return (x, y, w, h)\n",
    "\n",
    "        def windows(contours):\n",
    "            boxes = []\n",
    "            for cont in contours:\n",
    "                box = cv2.boundingRect(cont)\n",
    "                if not boxes:\n",
    "                    boxes.append(box)\n",
    "                else:\n",
    "                    if is_overlapping_horizontally(boxes[-1], box):\n",
    "                        last_box = boxes.pop()\n",
    "                        merged_box = merge(box, last_box)\n",
    "                        boxes.append(merged_box)\n",
    "                    else:\n",
    "                        boxes.append(box)\n",
    "            return boxes\n",
    "\n",
    "        boxes = windows(contours_filtered)\n",
    "        len_boxes = len(boxes)\n",
    "\n",
    "        for n in range(len_boxes):\n",
    "          x, y, w, h = boxes[n]\n",
    "          plt.axis('off')\n",
    "          \n",
    "          if y < 10:\n",
    "              y = 10\n",
    "          if x < 10:\n",
    "              x = 10\n",
    "              \n",
    "          roi = img[y-10:y+h+5, x-10:x+w+5]\n",
    "          roi = cv2.resize(roi,(32, 32),interpolation = cv2.INTER_AREA)\n",
    "          a = str(n+1)\n",
    "          cv2.imwrite('basamak'+a+'.png', roi)\n",
    "\n",
    "        columnNames = list()\n",
    "\n",
    "        for i in range(1024):\n",
    "            pixel = 'pixel'\n",
    "            pixel += str(i)\n",
    "            columnNames.append(pixel)\n",
    "\n",
    "        train_data = pd.DataFrame(columns = columnNames)\n",
    "\n",
    "        for n in range(len_boxes):\n",
    "            a = str(n+1)\n",
    "            b='basamak'+a+'.png'\n",
    "            img = Image.open(b)\n",
    "            rawData = img.load()\n",
    "            data = []\n",
    "            for y in range(32):\n",
    "                for x in range(32):\n",
    "                    data.append(rawData[x,y])\n",
    "            k = 0\n",
    "            train_data.loc[0] = [data[k] for k in range(1024)]\n",
    "            train_data = train_data.div(255)\n",
    "            train_data.to_csv(\"train_converted\"+a+\".csv\",index = False)\n",
    "\n",
    "\n",
    "        w ={}\n",
    "        for n in range(len_boxes):\n",
    "            a = str(n+1)\n",
    "            b = \"train_converted\"+a+\".csv\"\n",
    "            x_pred = pd.read_csv(b)\n",
    "            x_pred = x_pred.iloc[:,:].values.astype('float32')\n",
    "            x_pred =x_pred.reshape(-1, 32, 32, 1)\n",
    "            predictions=classifier.predict(x_pred)\n",
    "            x = predictions[4]\n",
    "            c = \"predictions\"+a\n",
    "            w.update( {c : x.argmax()} )\n",
    "        \n",
    "        row = [file,  str(w.get(\"predictions1\")) + \n",
    "               str(w.get(\"predictions2\")) +  \n",
    "               str(w.get(\"predictions3\")) +\n",
    "               str(w.get(\"predictions4\")) +\n",
    "               str(w.get(\"predictions5\")) +\n",
    "               str(w.get(\"predictions6\")) ]\n",
    "\n",
    "        row_list.append(row)\n",
    "\n",
    "        print( file + \" \" + \"SAYAÇ MİKTAR: \" +\n",
    "            str(w.get(\"predictions1\")) + \n",
    "            str(w.get(\"predictions2\")) +  \n",
    "            str(w.get(\"predictions3\")) +\n",
    "            str(w.get(\"predictions4\")) +\n",
    "            str(w.get(\"predictions5\")) +\n",
    "            str(w.get(\"predictions6\")) \n",
    "            )\n",
    "\n",
    "        continue\n",
    "        \n",
    "    else:\n",
    "        continue\n",
    "\n",
    "  except IndexError:\n",
    "    if IndexError:\n",
    "      index_counter += 1\n",
    "      print(file + \" \" +'List index out of range error')\n",
    "      print('index count: ', index_counter)\n",
    "      pass\n",
    "\n",
    "  '''except:\n",
    "    row = [file, \"Resize Error\"]\n",
    "    resize_counter += 1\n",
    "    print('resize count: ', resize_counter)\n",
    "    print(file + \" \" + 'resize error')'''"
   ]
  },
  {
   "cell_type": "code",
   "execution_count": null,
   "metadata": {
    "colab": {
     "base_uri": "https://localhost:8080/"
    },
    "id": "r3pqAMSVuNxE",
    "outputId": "09d762eb-566c-477b-af41-89e152751f69"
   },
   "outputs": [],
   "source": [
    "# Create a file for new predicted values, then write it\n",
    "# update this csv each time you changed something in the code above \n",
    "# then follow these steps and calculate the accuracy, compare with other results\n",
    "with open('analog_predicted_meter.csv', 'w', newline='') as file:\n",
    "  writer = csv.writer(file)\n",
    "  writer.writerows(row_list)\n",
    "print(len(row_list))"
   ]
  },
  {
   "cell_type": "code",
   "execution_count": null,
   "metadata": {
    "colab": {
     "base_uri": "https://localhost:8080/"
    },
    "id": "YSC3zXTPt_Lr",
    "outputId": "03bf62f6-b065-4966-b3fb-d683924d9d1a"
   },
   "outputs": [],
   "source": [
    "print(\"-------------------------------------\")\n",
    "print(\"resize counter error:\", \" \", resize_counter)\n",
    "print(\"index counter error:\" , \" \" , index_counter)\n",
    "print(\"-------------------------------------\")\n",
    "read = 169 - (int(resize_counter) + int(index_counter))\n",
    "not_read = int(resize_counter) + int(index_counter)\n",
    "print(\"reading: \", read)\n",
    "print(\"not reading: \", not_read)\n",
    "print(\"-------------------------------------\")"
   ]
  },
  {
   "cell_type": "code",
   "execution_count": null,
   "metadata": {
    "colab": {
     "base_uri": "https://localhost:8080/",
     "height": 419
    },
    "id": "8S4KwFn1wPtB",
    "outputId": "41068a91-261f-4dc3-e401-a12dd9813057"
   },
   "outputs": [],
   "source": [
    "read_value = pd.read_csv(\"analog_predicted_meter.csv\")\n",
    "read_value.columns = [\"imageID\", \"read_value\"]\n",
    "read_value[\"imageID\"] = read_value[\"imageID\"].str.replace(r'.jpg$', '')\n",
    "#read_val[\"ImageID\"] = read_val[\"ImageID\"].str.replace(r'.png$', '')\n",
    "\n",
    "# Delete basamak.png rows\n",
    "#read_val = read_val[read_val.ReadValue == basamak]\n",
    "\n",
    "read_value"
   ]
  },
  {
   "cell_type": "code",
   "execution_count": null,
   "metadata": {
    "colab": {
     "base_uri": "https://localhost:8080/",
     "height": 419
    },
    "id": "PNGSRw3yxkiT",
    "outputId": "bee0f854-1da5-4ac9-db26-56be8aad8620"
   },
   "outputs": [],
   "source": [
    "real_value = pd.read_excel(\"analog_actual_meter.xlsx\", dtype={'actual_value':np.str})\n",
    "real_value"
   ]
  },
  {
   "cell_type": "code",
   "execution_count": null,
   "metadata": {
    "colab": {
     "base_uri": "https://localhost:8080/",
     "height": 623
    },
    "id": "Jp6hsBeEyyrA",
    "outputId": "ed6038c3-082b-4d0e-d661-cefc13b49640"
   },
   "outputs": [],
   "source": [
    "merged = pd.merge(read_value, real_value, on=\"imageID\")\n",
    "%load_ext google.colab.data_table \n",
    "merged"
   ]
  },
  {
   "cell_type": "code",
   "execution_count": null,
   "metadata": {
    "colab": {
     "base_uri": "https://localhost:8080/",
     "height": 623
    },
    "id": "ulUX9-TmEXZk",
    "outputId": "4f60ef24-11b7-4a3b-fad0-4678b85c629d"
   },
   "outputs": [],
   "source": [
    "merged[\"read_value\"] = merged[\"read_value\"].str.replace(r'None', 'N')\n",
    "merged"
   ]
  },
  {
   "cell_type": "code",
   "execution_count": null,
   "metadata": {
    "colab": {
     "base_uri": "https://localhost:8080/",
     "height": 383
    },
    "id": "WafzNUwGzpTO",
    "outputId": "765bd047-c7ac-4714-bca5-473b76f600b3"
   },
   "outputs": [],
   "source": [
    "merged['IfMatch'] = np.where(merged['read_value'] == merged['actual_value'], 'True', 'False')\n",
    "merged[merged['IfMatch'] == 'True']\n",
    "#merged"
   ]
  },
  {
   "cell_type": "code",
   "execution_count": null,
   "metadata": {
    "id": "O1ccNX3u_BdA"
   },
   "outputs": [],
   "source": [
    "merged[\"Total\"] = merged['read_value'] \n",
    "\n",
    "for row in range(167):\n",
    "\n",
    "  match_counter = 0\n",
    "\n",
    "  for basamak in range(6):\n",
    "    if merged['read_value'][row][basamak]== merged['actual_value'][row][basamak]:\n",
    "      match_counter += 1\n",
    "\n",
    "  merged['Total'][row] = match_counter"
   ]
  },
  {
   "cell_type": "code",
   "execution_count": null,
   "metadata": {
    "colab": {
     "base_uri": "https://localhost:8080/",
     "height": 640
    },
    "id": "fYC877w-Ev_k",
    "outputId": "6998cf60-fb84-46c4-94af-cc55a7115dd9"
   },
   "outputs": [],
   "source": [
    "merged[\"digit_correctness_of_each_meter\"] = (merged[\"Total\"]/6)*100\n",
    " \n",
    "print(\"accuracy:\", (sum (merged[\"Total\"])/ (6*167))*100)\n",
    "\n",
    "merged"
   ]
  }
 ],
 "metadata": {
  "colab": {
   "collapsed_sections": [],
   "name": "analog_program.ipynb",
   "provenance": []
  },
  "kernelspec": {
   "display_name": "ocr",
   "language": "python",
   "name": "ocr"
  },
  "language_info": {
   "codemirror_mode": {
    "name": "ipython",
    "version": 3
   },
   "file_extension": ".py",
   "mimetype": "text/x-python",
   "name": "python",
   "nbconvert_exporter": "python",
   "pygments_lexer": "ipython3",
   "version": "3.8.10"
  }
 },
 "nbformat": 4,
 "nbformat_minor": 1
}
